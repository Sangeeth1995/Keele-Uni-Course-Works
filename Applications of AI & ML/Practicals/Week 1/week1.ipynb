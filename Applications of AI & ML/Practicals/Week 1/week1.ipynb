{
 "cells": [
  {
   "cell_type": "code",
   "execution_count": 8,
   "metadata": {},
   "outputs": [
    {
     "name": "stdout",
     "output_type": "stream",
     "text": [
      "enter the radius:2\n",
      "12.56\n"
     ]
    }
   ],
   "source": [
    "n = int(input('enter the radius:'))\n",
    "area =  3.14 * n * n\n",
    "print(area)"
   ]
  },
  {
   "cell_type": "code",
   "execution_count": 13,
   "metadata": {},
   "outputs": [
    {
     "name": "stdout",
     "output_type": "stream",
     "text": [
      "enter the number:5\n",
      "5 * 1  = 5\n",
      "5 * 2  = 10\n",
      "5 * 3  = 15\n",
      "5 * 4  = 20\n",
      "5 * 5  = 25\n"
     ]
    }
   ],
   "source": [
    "n1 = int(input('enter the number:'))\n",
    "for i in range(1,6):\n",
    "    print(n1,'*',i,' =',n1*i)\n"
   ]
  },
  {
   "cell_type": "code",
   "execution_count": 20,
   "metadata": {},
   "outputs": [
    {
     "name": "stdout",
     "output_type": "stream",
     "text": [
      "enter the user name :sannu\n",
      "enter the password:munnnu\n",
      "Valid\n"
     ]
    }
   ],
   "source": [
    "usr = input('enter the user name :')\n",
    "pwd = input('enter the password:')\n",
    "if (pwd.find(usr) == -1):\n",
    "        print(\"Valid\")\n",
    "else:\n",
    "        print(\"Invalid\")\n",
    "\n"
   ]
  },
  {
   "cell_type": "code",
   "execution_count": 26,
   "metadata": {},
   "outputs": [
    {
     "name": "stdout",
     "output_type": "stream",
     "text": [
      "enter the number: 12345\n",
      "5\n"
     ]
    }
   ],
   "source": [
    "n = int(input('enter the number: '))\n",
    "\n",
    "def digit(n):\n",
    "    if n < 10:\n",
    "          return 1\n",
    "    else:\n",
    "          return 1 + digit(n/10)\n",
    "\n",
    "print(digit(n))\n",
    "\n"
   ]
  },
  {
   "cell_type": "code",
   "execution_count": 31,
   "metadata": {},
   "outputs": [
    {
     "name": "stdout",
     "output_type": "stream",
     "text": [
      "  name  age\n",
      "Sujeet   10\n",
      "Sameer   11\n",
      " Sumit   12\n"
     ]
    }
   ],
   "source": [
    "import pandas as pd\n",
    "# initialize list of lists\n",
    "data = [[10, 'Sujeet'], [11,'Sameer'], [12,'Sumit']]\n",
    " \n",
    "# Create the pandas DataFrame\n",
    "df = pd.DataFrame(data, columns = ['age', 'name'])\n",
    " \n",
    "# print dataframe.\n",
    "print(df[['name','age']].to_string(index=False))"
   ]
  },
  {
   "cell_type": "code",
   "execution_count": 32,
   "metadata": {},
   "outputs": [
    {
     "name": "stdout",
     "output_type": "stream",
     "text": [
      "z= -4 x= 6\n",
      "y= 0 x= 6\n",
      "z= 0 x= -1\n",
      "y= 9 x= -1\n"
     ]
    }
   ],
   "source": [
    "def fact(i):\n",
    "    i=i+10\n",
    "    return i\n",
    "\n",
    "\n",
    "\n",
    "def fact2(i):\n",
    "    i= i-10\n",
    "    \n",
    "    return i\n",
    "\n",
    "\n",
    "def fun(f1, f2, x):\n",
    "    y  =0\n",
    "    z=0\n",
    "    if x<1:\n",
    "       y =  f1(x)\n",
    "        \n",
    "    else:\n",
    "      z =  f2(x)\n",
    "      \n",
    "    print('z=', z, 'x=', x)\n",
    "    print('y=', y, 'x=', x)\n",
    "     \n",
    "fun(fact, fact2, 6)\n",
    "fun(fact, fact2, -1)"
   ]
  }
 ],
 "metadata": {
  "kernelspec": {
   "display_name": "Python 3",
   "language": "python",
   "name": "python3"
  },
  "language_info": {
   "codemirror_mode": {
    "name": "ipython",
    "version": 3
   },
   "file_extension": ".py",
   "mimetype": "text/x-python",
   "name": "python",
   "nbconvert_exporter": "python",
   "pygments_lexer": "ipython3",
   "version": "3.7.10"
  }
 },
 "nbformat": 4,
 "nbformat_minor": 4
}
